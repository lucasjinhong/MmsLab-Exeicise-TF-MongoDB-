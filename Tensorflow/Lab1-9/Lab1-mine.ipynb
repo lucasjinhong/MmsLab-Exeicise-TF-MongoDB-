{
 "cells": [
  {
   "cell_type": "code",
   "execution_count": 1,
   "id": "cc30ec38",
   "metadata": {},
   "outputs": [],
   "source": [
    "import tensorflow as tf"
   ]
  },
  {
   "cell_type": "code",
   "execution_count": 2,
   "id": "10d2d045",
   "metadata": {},
   "outputs": [
    {
     "name": "stdout",
     "output_type": "stream",
     "text": [
      "tf.Tensor(1, shape=(), dtype=int32)\n",
      "<tf.Variable 'Variable:0' shape=() dtype=int32, numpy=1>\n"
     ]
    }
   ],
   "source": [
    "c = tf.constant(1)\n",
    "v = tf.Variable(1)\n",
    "print(c)\n",
    "print(v)"
   ]
  },
  {
   "cell_type": "code",
   "execution_count": 3,
   "id": "c9fe628a",
   "metadata": {},
   "outputs": [
    {
     "name": "stdout",
     "output_type": "stream",
     "text": [
      "tf.Tensor(4, shape=(), dtype=int32)\n",
      "0 階Tensor\n"
     ]
    }
   ],
   "source": [
    "import tensorflow as tf\n",
    "x = tf.constant(4)\n",
    "print(x)\n",
    "print(\"{} 階Tensor\".format(x.ndim))"
   ]
  },
  {
   "cell_type": "code",
   "execution_count": 4,
   "id": "e8364352",
   "metadata": {},
   "outputs": [
    {
     "name": "stdout",
     "output_type": "stream",
     "text": [
      "1階Tensor \n"
     ]
    }
   ],
   "source": [
    "x = tf.constant([1, 2, 3, 4, 5, 6]) \n",
    "print(\"{}階Tensor \".format(x.ndim))"
   ]
  },
  {
   "cell_type": "code",
   "execution_count": 5,
   "id": "003da226",
   "metadata": {},
   "outputs": [
    {
     "name": "stdout",
     "output_type": "stream",
     "text": [
      "2階Tensor \n"
     ]
    }
   ],
   "source": [
    "x = tf.constant([[1, 2, 3], [4, 5, 6]])\n",
    "print(\"{}階Tensor \".format(x.ndim))"
   ]
  },
  {
   "cell_type": "code",
   "execution_count": 6,
   "id": "91153a82",
   "metadata": {},
   "outputs": [
    {
     "name": "stdout",
     "output_type": "stream",
     "text": [
      "Eager Execution 是否啟動: True\n"
     ]
    }
   ],
   "source": [
    "import numpy as np\n",
    "import tensorflow as tf\n",
    "\n",
    "print(\"Eager Execution 是否啟動: {}\".format(tf.executing_eagerly()))"
   ]
  },
  {
   "cell_type": "code",
   "execution_count": 7,
   "id": "237f05fd",
   "metadata": {},
   "outputs": [
    {
     "name": "stdout",
     "output_type": "stream",
     "text": [
      "a = 3\n",
      "b = 4\n"
     ]
    }
   ],
   "source": [
    "a = tf.constant(3)\n",
    "b = tf.constant(4)\n",
    "print(\"a = {}\".format(a))\n",
    "print(\"b = {}\".format(b))"
   ]
  },
  {
   "cell_type": "code",
   "execution_count": 8,
   "id": "7ce00878",
   "metadata": {},
   "outputs": [
    {
     "name": "stdout",
     "output_type": "stream",
     "text": [
      "tf.Tensor(3, shape=(), dtype=int32)\n",
      "tf.Tensor(4, shape=(), dtype=int32)\n"
     ]
    }
   ],
   "source": [
    "print(a)\n",
    "print(b)"
   ]
  },
  {
   "cell_type": "code",
   "execution_count": 9,
   "id": "b84e3000",
   "metadata": {},
   "outputs": [
    {
     "name": "stdout",
     "output_type": "stream",
     "text": [
      "a + b = 7\n",
      "a * b = 12\n"
     ]
    }
   ],
   "source": [
    "c = a + b\n",
    "print(\"a + b = {}\".format(c))\n",
    "d = a * b\n",
    "print(\"a * b = {}\".format(d))"
   ]
  },
  {
   "cell_type": "code",
   "execution_count": 10,
   "id": "2682ab2c",
   "metadata": {},
   "outputs": [
    {
     "name": "stdout",
     "output_type": "stream",
     "text": [
      "a constant: 2D Tensor\n",
      "a + b = \n",
      "[[2. 2.]\n",
      " [5. 7.]]\n",
      "a * b = \n",
      "[[ 5.  6.]\n",
      " [11. 12.]]\n"
     ]
    }
   ],
   "source": [
    "a = tf.constant([[1., 2.], [3., 4.]], dtype=tf.float32)\n",
    "b = np.array([[1., 0.], [2., 3.]], dtype=np.float32)\n",
    "print(\"a constant: {}D Tensor\".format(a.ndim))\n",
    "\n",
    "c = a + b\n",
    "print(\"a + b = \\n{}\".format(c))\n",
    "d = tf.matmul(a, b)\n",
    "print(\"a * b = \\n{}\".format(d))"
   ]
  },
  {
   "cell_type": "code",
   "execution_count": 11,
   "id": "279238b2",
   "metadata": {},
   "outputs": [
    {
     "name": "stdout",
     "output_type": "stream",
     "text": [
      "tf.Tensor(\n",
      "[[2. 2.]\n",
      " [5. 7.]], shape=(2, 2), dtype=float32)\n",
      "NumpyArray:\n",
      " [[2. 2.]\n",
      " [5. 7.]]\n"
     ]
    }
   ],
   "source": [
    "print(c)\n",
    "print(\"NumpyArray:\\n {}\".format(c.numpy()))"
   ]
  },
  {
   "cell_type": "code",
   "execution_count": 12,
   "id": "c41e91e3",
   "metadata": {},
   "outputs": [
    {
     "name": "stdout",
     "output_type": "stream",
     "text": [
      "tf.Tensor([[2.]], shape=(1, 1), dtype=float32)\n"
     ]
    }
   ],
   "source": [
    "w = tf.Variable([[1.0]])\n",
    "with tf.GradientTape() as tape:\n",
    "    loss = w * w\n",
    "\n",
    "grad = tape.gradient(loss, w)\n",
    "print(grad)"
   ]
  },
  {
   "cell_type": "code",
   "execution_count": 13,
   "id": "b55162cd",
   "metadata": {},
   "outputs": [],
   "source": [
    "import tensorflow as tf\n",
    "from tensorflow import keras\n",
    "from tensorflow.keras import layers\n",
    "from tensorflow.keras.utils import plot_model\n",
    "from IPython.display import Image"
   ]
  },
  {
   "cell_type": "code",
   "execution_count": 14,
   "id": "3aa6e4f0",
   "metadata": {},
   "outputs": [],
   "source": [
    "model = keras.Sequential(name='Sequential')\n",
    "model.add(layers.Dense(64, activation='relu', input_shape=(784,)))\n",
    "model.add(layers.Dense(64, activation='relu'))\n",
    "model.add(layers.Dense(10, activation='softmax'))"
   ]
  },
  {
   "cell_type": "code",
   "execution_count": 15,
   "id": "4f4ec3f3",
   "metadata": {},
   "outputs": [],
   "source": [
    "model = tf.keras.Sequential([layers.Dense(64, activation='relu', input_shape=(784,)),\n",
    "                             layers.Dense(64, activation='relu'), \n",
    "                             layers.Dense(10, activation='softmax')])"
   ]
  },
  {
   "cell_type": "code",
   "execution_count": 16,
   "id": "ab3cc147",
   "metadata": {},
   "outputs": [
    {
     "name": "stdout",
     "output_type": "stream",
     "text": [
      "('You must install pydot (`pip install pydot`) and install graphviz (see instructions at https://graphviz.gitlab.io/download/) ', 'for plot_model/model_to_dot to work.')\n"
     ]
    },
    {
     "data": {
      "image/png": "[encoded data removed]",
      "text/plain": [
       "<IPython.core.display.Image object>"
      ]
     },
     "execution_count": 16,
     "metadata": {},
     "output_type": "execute_result"
    }
   ],
   "source": [
    "plot_model(model, to_file='Sequential_Model.png')\n",
    "Image('Sequential_Model.png')"
   ]
  },
  {
   "cell_type": "code",
   "execution_count": 17,
   "id": "f2fd8838",
   "metadata": {},
   "outputs": [
    {
     "name": "stdout",
     "output_type": "stream",
     "text": [
      "('You must install pydot (`pip install pydot`) and install graphviz (see instructions at https://graphviz.gitlab.io/download/) ', 'for plot_model/model_to_dot to work.')\n"
     ]
    },
    {
     "data": {
      "image/png": "[encoded data removed]",
      "text/plain": [
       "<IPython.core.display.Image object>"
      ]
     },
     "execution_count": 17,
     "metadata": {},
     "output_type": "execute_result"
    }
   ],
   "source": [
    "inputs = keras.Input(shape=(784,), name='Input')\n",
    "hidden1 = layers.Dense(64, activation='relu', name='hidden1')(inputs)\n",
    "hidden2 = layers.Dense(64, activation='relu', name='hidden2')(hidden1)\n",
    "outputs = layers.Dense(10, activation='softmax', name='Output')(hidden2)\n",
    "\n",
    "model = keras.Model(inputs=inputs, outputs=outputs)\n",
    "\n",
    "plot_model(model, to_file='Functional_API_Sample_Model.png')\n",
    "\n",
    "Image('Functional_API_Sample_Model.png')"
   ]
  },
  {
   "cell_type": "code",
   "execution_count": 18,
   "id": "ea76122f",
   "metadata": {},
   "outputs": [
    {
     "name": "stdout",
     "output_type": "stream",
     "text": [
      "('You must install pydot (`pip install pydot`) and install graphviz (see instructions at https://graphviz.gitlab.io/download/) ', 'for plot_model/model_to_dot to work.')\n"
     ]
    },
    {
     "data": {
      "image/png": "[encoded data removed]",
      "text/plain": [
       "<IPython.core.display.Image object>"
      ]
     },
     "execution_count": 18,
     "metadata": {},
     "output_type": "execute_result"
    }
   ],
   "source": [
    "img_input = keras.Input(shape=(28, 28, 1), name='Image_Input')\n",
    "info_input = keras.Input(shape=(1, ), name='Information_Input')\n",
    "\n",
    "hidden1_1 = layers.Conv2D(64, kernel_size=5, strides=2, activation='relu', name='hidden1_1')(img_input)\n",
    "hidden1_2 = layers.Conv2D(32, kernel_size=5, strides=2, activation='relu', name='hidden1_2')(hidden1_1)\n",
    "hidden1_2_ft= layers.Flatten()(hidden1_2)\n",
    "hidden1_3 = layers.Dense(64, activation='relu', name='hidden1_3')(info_input)\n",
    "concat = layers.Concatenate()([hidden1_2_ft, hidden1_3])\n",
    "hidden2 = layers.Dense(64, activation='relu', name='hidden2')(concat)\n",
    "outputs = layers.Dense(1, name='Output')(hidden2)\n",
    "\n",
    "model = keras.Model(inputs=[img_input, info_input], outputs=outputs)\n",
    "\n",
    "plot_model(model, to_file='Functional_API_Multi_Input_Model.png')\n",
    "\n",
    "Image('Functional_API_Multi_Input_Model.png')"
   ]
  },
  {
   "cell_type": "code",
   "execution_count": 19,
   "id": "f14e837e",
   "metadata": {},
   "outputs": [
    {
     "name": "stdout",
     "output_type": "stream",
     "text": [
      "('You must install pydot (`pip install pydot`) and install graphviz (see instructions at https://graphviz.gitlab.io/download/) ', 'for plot_model/model_to_dot to work.')\n"
     ]
    },
    {
     "data": {
      "image/png": "[encoded data removed]",
      "text/plain": [
       "<IPython.core.display.Image object>"
      ]
     },
     "execution_count": 19,
     "metadata": {},
     "output_type": "execute_result"
    }
   ],
   "source": [
    "inputs = keras.Input(shape=(28, 28, 1), name='Input')\n",
    "\n",
    "hidden1 = layers.Conv2D(64, kernel_size=3, activation='relu', name='hidden1')(inputs)\n",
    "hidden2 = layers.Conv2D(64, kernel_size=3, strides=2, activation='relu', name='hidden2')(hidden1)\n",
    "hidden3 = layers.Conv2D(64, kernel_size=3, strides=2, activation='relu', name='hidden3')(hidden2)\n",
    "flatten = layers.Flatten()(hidden3)\n",
    "\n",
    "age_output = layers.Dense(1, name='Age_Output')(flatten)\n",
    "gender_output = layers.Dense(1, name='Gender_Output')(flatten)\n",
    "\n",
    "model = keras.Model(inputs=inputs, outputs=[age_output, gender_output])\n",
    "\n",
    "plot_model(model, to_file='Functional_API_Multi_Output_Model.png')\n",
    "\n",
    "Image('Functional_API_Multi_Output_Model.png')"
   ]
  },
  {
   "cell_type": "code",
   "execution_count": 20,
   "id": "ae18cbf6",
   "metadata": {},
   "outputs": [
    {
     "name": "stdout",
     "output_type": "stream",
     "text": [
      "('You must install pydot (`pip install pydot`) and install graphviz (see instructions at https://graphviz.gitlab.io/download/) ', 'for plot_model/model_to_dot to work.')\n"
     ]
    },
    {
     "data": {
      "image/png": "[encoded data removed]",
      "text/plain": [
       "<IPython.core.display.Image object>"
      ]
     },
     "execution_count": 20,
     "metadata": {},
     "output_type": "execute_result"
    }
   ],
   "source": [
    "image_inputs = keras.Input(shape=(28, 28, 1), name='Image_Input')\n",
    "hidden1 = layers.Conv2D(64, kernel_size=3, activation='relu', name='hidden1')(image_inputs)\n",
    "hidden2 = layers.Conv2D(64, kernel_size=3, strides=2, activation='relu', name='hidden2')(hidden1)\n",
    "hidden3 = layers.Conv2D(64, kernel_size=3, strides=2, activation='relu', name='hidden3')(hidden2)\n",
    "flatten = layers.Flatten()(hidden3)\n",
    "\n",
    "info_inputs = keras.Input(shape=(10, ), name='Info_Input')\n",
    "hidden4 = layers.Dense(64)(info_inputs)\n",
    "\n",
    "concat = layers.Concatenate()([flatten, hidden4])\n",
    "\n",
    "weather_outputs = layers.Dense(1, name='Output1')(concat)\n",
    "temp_outputs = layers.Dense(1, name='Output2')(concat)\n",
    "humidity_outputs = layers.Dense(1, name='Output3')(concat)\n",
    "\n",
    "model = keras.Model(inputs=[image_inputs, info_inputs], \n",
    "                    outputs=[weather_outputs, temp_outputs, humidity_outputs])\n",
    "\n",
    "plot_model(model, to_file='Functional_API_Multi_Input_Multi_Output_Model.png')\n",
    "\n",
    "Image('Functional_API_Multi_Input_Multi_Output_Model.png')"
   ]
  },
  {
   "cell_type": "code",
   "execution_count": 21,
   "id": "590df6ff",
   "metadata": {},
   "outputs": [
    {
     "name": "stdout",
     "output_type": "stream",
     "text": [
      "<TensorDataset shapes: (10,), types: tf.int32>\n"
     ]
    }
   ],
   "source": [
    "dataset = tf.data.Dataset.from_tensors(tf.constant([1, 2, 3, 4, 5, 6, 7, 8, 9, 10], shape=(10, )))\n",
    "print(dataset)"
   ]
  },
  {
   "cell_type": "code",
   "execution_count": 22,
   "id": "6931a39d",
   "metadata": {},
   "outputs": [
    {
     "name": "stdout",
     "output_type": "stream",
     "text": [
      "<TensorSliceDataset shapes: (), types: tf.int32>\n",
      "<TensorSliceDataset shapes: (), types: tf.int32>\n"
     ]
    }
   ],
   "source": [
    "x_data = tf.data.Dataset.from_tensor_slices(tf.constant([0, 1, 2, 3, 4, 5, 6, 7, 8, 9], shape=(10, )))\n",
    "print(x_data)\n",
    "\n",
    "y_data = tf.data.Dataset.from_tensor_slices(tf.constant([0, 2, 4, 6, 8, 10, 12, 14, 16, 18], shape=(10, )))\n",
    "print(y_data)"
   ]
  },
  {
   "cell_type": "code",
   "execution_count": 23,
   "id": "73b6d51d",
   "metadata": {},
   "outputs": [
    {
     "name": "stdout",
     "output_type": "stream",
     "text": [
      "tf.Tensor([ 1  2  3  4  5  6  7  8  9 10], shape=(10,), dtype=int32)\n"
     ]
    }
   ],
   "source": [
    "for data in dataset:\n",
    "    print(data)"
   ]
  },
  {
   "cell_type": "code",
   "execution_count": 24,
   "id": "5fb7e412",
   "metadata": {},
   "outputs": [
    {
     "name": "stdout",
     "output_type": "stream",
     "text": [
      "x: 0, y: 0\n",
      "x: 1, y: 2\n",
      "x: 2, y: 4\n",
      "x: 3, y: 6\n",
      "x: 4, y: 8\n",
      "x: 5, y: 10\n",
      "x: 6, y: 12\n",
      "x: 7, y: 14\n",
      "x: 8, y: 16\n",
      "x: 9, y: 18\n"
     ]
    }
   ],
   "source": [
    "for data1, data2 in zip(x_data, y_data):\n",
    "    print('x: {}, y: {}'.format(data1, data2))"
   ]
  },
  {
   "cell_type": "code",
   "execution_count": 25,
   "id": "c51e9dbd",
   "metadata": {},
   "outputs": [
    {
     "name": "stdout",
     "output_type": "stream",
     "text": [
      "tf.Tensor([ 1  2  3  4  5  6  7  8  9 10], shape=(10,), dtype=int32)\n"
     ]
    }
   ],
   "source": [
    "for data in dataset.take(1):\n",
    "    print(data)"
   ]
  },
  {
   "cell_type": "code",
   "execution_count": 26,
   "id": "c24020d7",
   "metadata": {},
   "outputs": [
    {
     "name": "stdout",
     "output_type": "stream",
     "text": [
      "x: 0, y: 0\n",
      "x: 1, y: 2\n",
      "x: 2, y: 4\n",
      "x: 3, y: 6\n",
      "x: 4, y: 8\n"
     ]
    }
   ],
   "source": [
    "for data1, data2 in zip(x_data.take(5), y_data.take(5)):\n",
    "    print('x: {}, y: {}'.format(data1, data2))"
   ]
  },
  {
   "cell_type": "code",
   "execution_count": 27,
   "id": "c0c66cd2",
   "metadata": {},
   "outputs": [
    {
     "name": "stdout",
     "output_type": "stream",
     "text": [
      "x: 0, y: 0\n",
      "x: 1, y: 2\n",
      "x: 2, y: 4\n",
      "x: 3, y: 6\n",
      "x: 4, y: 8\n",
      "x: 5, y: 10\n",
      "x: 6, y: 12\n",
      "x: 7, y: 14\n",
      "x: 8, y: 16\n",
      "x: 9, y: 18\n"
     ]
    }
   ],
   "source": [
    "for data1, data2 in zip(x_data.take(12), y_data.take(12)):\n",
    "    print('x: {}, y: {}'.format(data1, data2))"
   ]
  },
  {
   "cell_type": "code",
   "execution_count": 28,
   "id": "488aebb7",
   "metadata": {},
   "outputs": [
    {
     "name": "stdout",
     "output_type": "stream",
     "text": [
      "<ZipDataset shapes: ((), ()), types: (tf.int32, tf.int32)>\n"
     ]
    }
   ],
   "source": [
    "dataset = tf.data.Dataset.zip((x_data, y_data))\n",
    "print(dataset)"
   ]
  },
  {
   "cell_type": "code",
   "execution_count": 29,
   "id": "23bdadb5",
   "metadata": {},
   "outputs": [
    {
     "data": {
      "text/plain": [
       "<MapDataset shapes: (), types: tf.int64>"
      ]
     },
     "execution_count": 29,
     "metadata": {},
     "output_type": "execute_result"
    }
   ],
   "source": [
    "tf.data.Dataset.range(10).map(lambda x: x*2)"
   ]
  },
  {
   "cell_type": "code",
   "execution_count": 30,
   "id": "ab7cb592",
   "metadata": {},
   "outputs": [
    {
     "name": "stdout",
     "output_type": "stream",
     "text": [
      "<ZipDataset shapes: {x: (), y: ()}, types: {x: tf.int64, y: tf.int64}>\n"
     ]
    }
   ],
   "source": [
    "x = tf.data.Dataset.range(10)\n",
    "y = tf.data.Dataset.range(10).map(lambda x: x*2)\n",
    "\n",
    "dataset = tf.data.Dataset.zip({\"x\": x, \"y\": y})\n",
    "print(dataset)"
   ]
  },
  {
   "cell_type": "code",
   "execution_count": 31,
   "id": "82e5f1e3",
   "metadata": {},
   "outputs": [
    {
     "name": "stdout",
     "output_type": "stream",
     "text": [
      "x: 0, y: 0\n",
      "x: 1, y: 2\n",
      "x: 2, y: 4\n",
      "x: 3, y: 6\n",
      "x: 4, y: 8\n",
      "x: 5, y: 10\n",
      "x: 6, y: 12\n",
      "x: 7, y: 14\n",
      "x: 8, y: 16\n",
      "x: 9, y: 18\n"
     ]
    }
   ],
   "source": [
    "for data in dataset.take(10):\n",
    "    print('x: {}, y: {}'.format(data['x'], data['y']))"
   ]
  },
  {
   "cell_type": "code",
   "execution_count": 32,
   "id": "fe6b131e",
   "metadata": {},
   "outputs": [
    {
     "name": "stdout",
     "output_type": "stream",
     "text": [
      "x: [0 1], y: [0 2]\n",
      "x: [2 3], y: [4 6]\n",
      "x: [4 5], y: [ 8 10]\n",
      "x: [6 7], y: [12 14]\n",
      "x: [8 9], y: [16 18]\n"
     ]
    }
   ],
   "source": [
    "dataset = tf.data.Dataset.zip({\"x\": x, \"y\": y}).batch(2)\n",
    "\n",
    "for data in dataset.take(5):\n",
    "    print('x: {}, y: {}'.format(data['x'], data['y']))"
   ]
  },
  {
   "cell_type": "code",
   "execution_count": 33,
   "id": "aefb2497",
   "metadata": {},
   "outputs": [
    {
     "name": "stdout",
     "output_type": "stream",
     "text": [
      "x: [6 7], y: [12 14]\n",
      "x: [4 5], y: [ 8 10]\n",
      "x: [8 9], y: [16 18]\n",
      "x: [0 1], y: [0 2]\n",
      "x: [2 3], y: [4 6]\n"
     ]
    }
   ],
   "source": [
    "dataset = dataset.shuffle(10)\n",
    "for data in dataset.take(5):\n",
    "    print('x: {}, y: {}'.format(data['x'], data['y']))"
   ]
  },
  {
   "cell_type": "code",
   "execution_count": 34,
   "id": "80e4a907",
   "metadata": {},
   "outputs": [
    {
     "name": "stdout",
     "output_type": "stream",
     "text": [
      "x: [4 5], y: [ 8 10]\n",
      "x: [8 9], y: [16 18]\n",
      "x: [0 1], y: [0 2]\n",
      "x: [6 7], y: [12 14]\n",
      "x: [2 3], y: [4 6]\n",
      "--------------------------------------------------\n",
      "x: [6 7], y: [12 14]\n",
      "x: [8 9], y: [16 18]\n",
      "x: [4 5], y: [ 8 10]\n",
      "x: [2 3], y: [4 6]\n",
      "x: [0 1], y: [0 2]\n",
      "x: [0 1], y: [0 2]\n",
      "x: [6 7], y: [12 14]\n",
      "x: [2 3], y: [4 6]\n",
      "x: [8 9], y: [16 18]\n",
      "x: [4 5], y: [ 8 10]\n"
     ]
    }
   ],
   "source": [
    "for data in dataset.take(10):\n",
    "    print('x: {}, y: {}'.format(data['x'], data['y']))\n",
    "\n",
    "    \n",
    "print('-' * 50)\n",
    "dataset = dataset.repeat(3)\n",
    "for data in dataset.take(10):\n",
    "    print('x: {}, y: {}'.format(data['x'], data['y']))"
   ]
  },
  {
   "cell_type": "code",
   "execution_count": null,
   "id": "af43280c",
   "metadata": {},
   "outputs": [],
   "source": []
  }
 ],
 "metadata": {
  "kernelspec": {
   "display_name": "tf2",
   "language": "python",
   "name": "tf2"
  },
  "language_info": {
   "codemirror_mode": {
    "name": "ipython",
    "version": 3
   },
   "file_extension": ".py",
   "mimetype": "text/x-python",
   "name": "python",
   "nbconvert_exporter": "python",
   "pygments_lexer": "ipython3",
   "version": "3.8.10"
  }
 },
 "nbformat": 4,
 "nbformat_minor": 5
}
